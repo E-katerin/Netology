{
 "cells": [
  {
   "cell_type": "markdown",
   "metadata": {},
   "source": [
    "## 1.Разделить дата сет на трейн и тест в отношение 50:50 70:30 80:20 (с перемешиванием)"
   ]
  },
  {
   "cell_type": "code",
   "execution_count": 107,
   "metadata": {},
   "outputs": [],
   "source": [
    "import pandas as pd\n",
    "import numpy as np\n",
    "import statsmodels.api as sm\n",
    "import statsmodels.formula.api as smf\n",
    "np.random.seed(42)"
   ]
  },
  {
   "cell_type": "code",
   "execution_count": 108,
   "metadata": {},
   "outputs": [
    {
     "data": {
      "text/html": [
       "<div>\n",
       "<style scoped>\n",
       "    .dataframe tbody tr th:only-of-type {\n",
       "        vertical-align: middle;\n",
       "    }\n",
       "\n",
       "    .dataframe tbody tr th {\n",
       "        vertical-align: top;\n",
       "    }\n",
       "\n",
       "    .dataframe thead th {\n",
       "        text-align: right;\n",
       "    }\n",
       "</style>\n",
       "<table border=\"1\" class=\"dataframe\">\n",
       "  <thead>\n",
       "    <tr style=\"text-align: right;\">\n",
       "      <th></th>\n",
       "      <th>TV</th>\n",
       "      <th>radio</th>\n",
       "      <th>newspaper</th>\n",
       "      <th>sales</th>\n",
       "    </tr>\n",
       "  </thead>\n",
       "  <tbody>\n",
       "    <tr>\n",
       "      <th>0</th>\n",
       "      <td>230.1</td>\n",
       "      <td>37.8</td>\n",
       "      <td>69.2</td>\n",
       "      <td>22.1</td>\n",
       "    </tr>\n",
       "    <tr>\n",
       "      <th>1</th>\n",
       "      <td>44.5</td>\n",
       "      <td>39.3</td>\n",
       "      <td>45.1</td>\n",
       "      <td>10.4</td>\n",
       "    </tr>\n",
       "    <tr>\n",
       "      <th>2</th>\n",
       "      <td>17.2</td>\n",
       "      <td>45.9</td>\n",
       "      <td>69.3</td>\n",
       "      <td>9.3</td>\n",
       "    </tr>\n",
       "    <tr>\n",
       "      <th>3</th>\n",
       "      <td>151.5</td>\n",
       "      <td>41.3</td>\n",
       "      <td>58.5</td>\n",
       "      <td>18.5</td>\n",
       "    </tr>\n",
       "    <tr>\n",
       "      <th>4</th>\n",
       "      <td>180.8</td>\n",
       "      <td>10.8</td>\n",
       "      <td>58.4</td>\n",
       "      <td>12.9</td>\n",
       "    </tr>\n",
       "  </tbody>\n",
       "</table>\n",
       "</div>"
      ],
      "text/plain": [
       "      TV  radio  newspaper  sales\n",
       "0  230.1   37.8       69.2   22.1\n",
       "1   44.5   39.3       45.1   10.4\n",
       "2   17.2   45.9       69.3    9.3\n",
       "3  151.5   41.3       58.5   18.5\n",
       "4  180.8   10.8       58.4   12.9"
      ]
     },
     "execution_count": 108,
     "metadata": {},
     "output_type": "execute_result"
    }
   ],
   "source": [
    "adv_df = pd.read_csv('Advertising.csv', usecols=[1,2,3,4])\n",
    "adv_df.head()"
   ]
  },
  {
   "cell_type": "code",
   "execution_count": 109,
   "metadata": {},
   "outputs": [],
   "source": [
    "from sklearn.model_selection import train_test_split"
   ]
  },
  {
   "cell_type": "code",
   "execution_count": 110,
   "metadata": {},
   "outputs": [],
   "source": [
    "adv_df['root_tv'] = adv_df.TV.apply(lambda x: math.pow(x, 0.4))"
   ]
  },
  {
   "cell_type": "code",
   "execution_count": 111,
   "metadata": {},
   "outputs": [
    {
     "name": "stdout",
     "output_type": "stream",
     "text": [
      "<class 'pandas.core.frame.DataFrame'>\n",
      "Int64Index: 100 entries, 4 to 102\n",
      "Data columns (total 5 columns):\n",
      "TV           100 non-null float64\n",
      "radio        100 non-null float64\n",
      "newspaper    100 non-null float64\n",
      "sales        100 non-null float64\n",
      "root_tv      100 non-null float64\n",
      "dtypes: float64(5)\n",
      "memory usage: 4.7 KB\n"
     ]
    }
   ],
   "source": [
    "#Разделить дата сет на трейн и тест в отношение 50:50 (с перемешиванием)\n",
    "X_train, X_test = train_test_split(adv_df, test_size=0.5, shuffle=True, random_state=42)\n",
    "X_train.info()"
   ]
  },
  {
   "cell_type": "code",
   "execution_count": 112,
   "metadata": {},
   "outputs": [
    {
     "data": {
      "text/plain": [
       "(140, 5)"
      ]
     },
     "execution_count": 112,
     "metadata": {},
     "output_type": "execute_result"
    }
   ],
   "source": [
    "#Разделить дата сет на трейн и тест в отношение 70:30 (с перемешиванием)\n",
    "X_train1, X_test1 = train_test_split(adv_df, test_size=0.3, shuffle=True, random_state=42)\n",
    "X_train1.shape"
   ]
  },
  {
   "cell_type": "code",
   "execution_count": 113,
   "metadata": {},
   "outputs": [
    {
     "data": {
      "text/plain": [
       "(160, 5)"
      ]
     },
     "execution_count": 113,
     "metadata": {},
     "output_type": "execute_result"
    }
   ],
   "source": [
    "#Разделить дата сет на трейн и тест в отношение 80:20 (с перемешиванием)\n",
    "X_train2, X_test2 = train_test_split(adv_df, test_size=0.2, shuffle=True, random_state=42)\n",
    "X_train2.shape"
   ]
  },
  {
   "cell_type": "markdown",
   "metadata": {},
   "source": [
    "## 2.Обучать наши модели на трейне. Предсказывать и замерять метрику R^2 и на трейне и на тесте \n",
    "## 3.Проверить следующие модели, для каждого разделения: а) sales ~ log_tv + radio б) sales ~ TV + radio в) sales ~ TV + radio + newspaper"
   ]
  },
  {
   "cell_type": "markdown",
   "metadata": {},
   "source": [
    "Проверяем вариант в) sales ~ TV + radio + newspaper"
   ]
  },
  {
   "cell_type": "code",
   "execution_count": 114,
   "metadata": {},
   "outputs": [
    {
     "data": {
      "text/html": [
       "<table class=\"simpletable\">\n",
       "<tr>\n",
       "      <td></td>         <th>coef</th>     <th>std err</th>      <th>t</th>      <th>P>|t|</th>  <th>[0.025</th>    <th>0.975]</th>  \n",
       "</tr>\n",
       "<tr>\n",
       "  <th>Intercept</th> <td>    2.5791</td> <td>    0.459</td> <td>    5.616</td> <td> 0.000</td> <td>    1.667</td> <td>    3.491</td>\n",
       "</tr>\n",
       "<tr>\n",
       "  <th>TV</th>        <td>    0.0436</td> <td>    0.002</td> <td>   21.427</td> <td> 0.000</td> <td>    0.040</td> <td>    0.048</td>\n",
       "</tr>\n",
       "<tr>\n",
       "  <th>radio</th>     <td>    0.1993</td> <td>    0.012</td> <td>   16.834</td> <td> 0.000</td> <td>    0.176</td> <td>    0.223</td>\n",
       "</tr>\n",
       "<tr>\n",
       "  <th>newspaper</th> <td>    0.0147</td> <td>    0.010</td> <td>    1.489</td> <td> 0.140</td> <td>   -0.005</td> <td>    0.034</td>\n",
       "</tr>\n",
       "</table>"
      ],
      "text/plain": [
       "<class 'statsmodels.iolib.table.SimpleTable'>"
      ]
     },
     "execution_count": 114,
     "metadata": {},
     "output_type": "execute_result"
    }
   ],
   "source": [
    "est = smf.ols('sales ~ TV + radio + newspaper', X_train).fit()\n",
    "est_res = est.summary()\n",
    "est_res.tables[1]"
   ]
  },
  {
   "cell_type": "code",
   "execution_count": 115,
   "metadata": {},
   "outputs": [
    {
     "name": "stdout",
     "output_type": "stream",
     "text": [
      "RSS: 263.7072834762901\n",
      "RSE: 1.657392792775656\n",
      "R^2: 0.9042613648908893\n"
     ]
    }
   ],
   "source": [
    "#расчет метрик\n",
    "print(\"RSS:\", np.sum(est.resid ** 2))\n",
    "print(\"RSE:\", np.sqrt((np.sum(est.resid ** 2)) / (X_train.shape[0] - 3 - 1)))\n",
    "print(\"R^2:\", est.rsquared)"
   ]
  },
  {
   "cell_type": "code",
   "execution_count": 116,
   "metadata": {},
   "outputs": [
    {
     "name": "stdout",
     "output_type": "stream",
     "text": [
      "RSS_test: 334.4786637735287\n",
      "RSE_test: 0.19050789429293025\n",
      "R^2_test: 0.8721004816045134\n"
     ]
    }
   ],
   "source": [
    "#получение предсказания на тесте\n",
    "y_pred_test = est.predict(X_test[['TV', 'radio', 'newspaper']])\n",
    "y_test = X_test['sales']\n",
    "\n",
    "#расчет метрик\n",
    "print(\"RSS_test:\", np.sum((y_test - y_pred_test)**2))\n",
    "print(\"RSE_test:\",np.sqrt(np.sum((y_test - y_pred_test)**2)) / (X_test.shape[0] - 3 - 1))\n",
    "\n",
    "import sklearn\n",
    "print(\"R^2_test:\", sklearn.metrics.r2_score(y_test, y_pred_test))"
   ]
  },
  {
   "cell_type": "code",
   "execution_count": 117,
   "metadata": {},
   "outputs": [
    {
     "data": {
      "text/html": [
       "<table class=\"simpletable\">\n",
       "<tr>\n",
       "      <td></td>         <th>coef</th>     <th>std err</th>      <th>t</th>      <th>P>|t|</th>  <th>[0.025</th>    <th>0.975]</th>  \n",
       "</tr>\n",
       "<tr>\n",
       "  <th>Intercept</th> <td>    2.7089</td> <td>    0.374</td> <td>    7.250</td> <td> 0.000</td> <td>    1.970</td> <td>    3.448</td>\n",
       "</tr>\n",
       "<tr>\n",
       "  <th>TV</th>        <td>    0.0441</td> <td>    0.002</td> <td>   27.219</td> <td> 0.000</td> <td>    0.041</td> <td>    0.047</td>\n",
       "</tr>\n",
       "<tr>\n",
       "  <th>radio</th>     <td>    0.1993</td> <td>    0.010</td> <td>   20.195</td> <td> 0.000</td> <td>    0.180</td> <td>    0.219</td>\n",
       "</tr>\n",
       "<tr>\n",
       "  <th>newspaper</th> <td>    0.0069</td> <td>    0.007</td> <td>    0.988</td> <td> 0.325</td> <td>   -0.007</td> <td>    0.021</td>\n",
       "</tr>\n",
       "</table>"
      ],
      "text/plain": [
       "<class 'statsmodels.iolib.table.SimpleTable'>"
      ]
     },
     "execution_count": 117,
     "metadata": {},
     "output_type": "execute_result"
    }
   ],
   "source": [
    "est1 = smf.ols('sales ~ TV + radio + newspaper', X_train1).fit()\n",
    "est_res1 = est1.summary()\n",
    "est_res1.tables[1]"
   ]
  },
  {
   "cell_type": "code",
   "execution_count": 118,
   "metadata": {},
   "outputs": [
    {
     "name": "stdout",
     "output_type": "stream",
     "text": [
      "RSS: 347.1097250468102\n",
      "RSE: 1.5975848616114496\n",
      "R^2: 0.9055159502227753\n"
     ]
    }
   ],
   "source": [
    "#расчет метрик\n",
    "print(\"RSS:\", np.sum(est1.resid ** 2))\n",
    "print(\"RSE:\", np.sqrt((np.sum(est1.resid ** 2)) / (X_train1.shape[0] - 3 - 1)))\n",
    "print(\"R^2:\", est1.rsquared)"
   ]
  },
  {
   "cell_type": "code",
   "execution_count": 119,
   "metadata": {},
   "outputs": [
    {
     "name": "stdout",
     "output_type": "stream",
     "text": [
      "RSS_test1: 227.80783420291309\n",
      "RSE_test1: 0.2695232907818694\n",
      "R^2_test1: 0.8609466508230368\n"
     ]
    }
   ],
   "source": [
    "#получение предсказания на тесте\n",
    "y_pred_test1 = est1.predict(X_test1[['TV', 'radio', 'newspaper']])\n",
    "y_test1 = X_test1['sales']\n",
    "\n",
    "#расчет метрик\n",
    "print(\"RSS_test1:\", np.sum((y_test1 - y_pred_test1)**2))\n",
    "print(\"RSE_test1:\",np.sqrt(np.sum((y_test1 - y_pred_test1)**2)) / (X_test1.shape[0] - 3 - 1))\n",
    "print(\"R^2_test1:\", sklearn.metrics.r2_score(y_test1, y_pred_test1))"
   ]
  },
  {
   "cell_type": "code",
   "execution_count": 120,
   "metadata": {},
   "outputs": [
    {
     "data": {
      "text/html": [
       "<table class=\"simpletable\">\n",
       "<tr>\n",
       "      <td></td>         <th>coef</th>     <th>std err</th>      <th>t</th>      <th>P>|t|</th>  <th>[0.025</th>    <th>0.975]</th>  \n",
       "</tr>\n",
       "<tr>\n",
       "  <th>Intercept</th> <td>    2.9791</td> <td>    0.354</td> <td>    8.427</td> <td> 0.000</td> <td>    2.281</td> <td>    3.677</td>\n",
       "</tr>\n",
       "<tr>\n",
       "  <th>TV</th>        <td>    0.0447</td> <td>    0.002</td> <td>   28.544</td> <td> 0.000</td> <td>    0.042</td> <td>    0.048</td>\n",
       "</tr>\n",
       "<tr>\n",
       "  <th>radio</th>     <td>    0.1892</td> <td>    0.010</td> <td>   19.518</td> <td> 0.000</td> <td>    0.170</td> <td>    0.208</td>\n",
       "</tr>\n",
       "<tr>\n",
       "  <th>newspaper</th> <td>    0.0028</td> <td>    0.007</td> <td>    0.392</td> <td> 0.696</td> <td>   -0.011</td> <td>    0.017</td>\n",
       "</tr>\n",
       "</table>"
      ],
      "text/plain": [
       "<class 'statsmodels.iolib.table.SimpleTable'>"
      ]
     },
     "execution_count": 120,
     "metadata": {},
     "output_type": "execute_result"
    }
   ],
   "source": [
    "est2 = smf.ols('sales ~ TV + radio + newspaper', X_train2).fit()\n",
    "est_res2 = est2.summary()\n",
    "est_res2.tables[1]"
   ]
  },
  {
   "cell_type": "code",
   "execution_count": 121,
   "metadata": {},
   "outputs": [
    {
     "name": "stdout",
     "output_type": "stream",
     "text": [
      "RSS: 432.82070769302624\n",
      "RSE: 1.6656805564035793\n",
      "R^2: 0.8957008271017818\n"
     ]
    }
   ],
   "source": [
    "#расчет метрик\n",
    "print(\"RSS:\", np.sum(est2.resid ** 2))\n",
    "print(\"RSE:\", np.sqrt((np.sum(est2.resid ** 2)) / (X_train2.shape[0] - 3 - 1)))\n",
    "print(\"R^2:\", est2.rsquared)"
   ]
  },
  {
   "cell_type": "code",
   "execution_count": 122,
   "metadata": {},
   "outputs": [
    {
     "name": "stdout",
     "output_type": "stream",
     "text": [
      "RSS_test2: 126.96389415904423\n",
      "RSE_test2: 0.3129951560572654\n",
      "R^2_test2: 0.8994380241009119\n"
     ]
    }
   ],
   "source": [
    "#получение предсказания на тесте\n",
    "y_pred_test2 = est2.predict(X_test2[['TV', 'radio', 'newspaper']])\n",
    "y_test2 = X_test2['sales']\n",
    "\n",
    "#расчет метрик\n",
    "print(\"RSS_test2:\", np.sum((y_test2 - y_pred_test2)**2))\n",
    "print(\"RSE_test2:\",np.sqrt(np.sum((y_test2 - y_pred_test2)**2)) / (X_test2.shape[0] - 3 - 1))\n",
    "print(\"R^2_test2:\", sklearn.metrics.r2_score(y_test2, y_pred_test2))"
   ]
  },
  {
   "cell_type": "markdown",
   "metadata": {},
   "source": [
    "Проверяем вариант б) sales ~ TV + radio"
   ]
  },
  {
   "cell_type": "code",
   "execution_count": 123,
   "metadata": {},
   "outputs": [
    {
     "data": {
      "text/html": [
       "<table class=\"simpletable\">\n",
       "<tr>\n",
       "      <td></td>         <th>coef</th>     <th>std err</th>      <th>t</th>      <th>P>|t|</th>  <th>[0.025</th>    <th>0.975]</th>  \n",
       "</tr>\n",
       "<tr>\n",
       "  <th>Intercept</th> <td>    2.8466</td> <td>    0.425</td> <td>    6.693</td> <td> 0.000</td> <td>    2.002</td> <td>    3.691</td>\n",
       "</tr>\n",
       "<tr>\n",
       "  <th>TV</th>        <td>    0.0438</td> <td>    0.002</td> <td>   21.435</td> <td> 0.000</td> <td>    0.040</td> <td>    0.048</td>\n",
       "</tr>\n",
       "<tr>\n",
       "  <th>radio</th>     <td>    0.2061</td> <td>    0.011</td> <td>   18.785</td> <td> 0.000</td> <td>    0.184</td> <td>    0.228</td>\n",
       "</tr>\n",
       "</table>"
      ],
      "text/plain": [
       "<class 'statsmodels.iolib.table.SimpleTable'>"
      ]
     },
     "execution_count": 123,
     "metadata": {},
     "output_type": "execute_result"
    }
   ],
   "source": [
    "est = smf.ols('sales ~ TV + radio', X_train).fit()\n",
    "est_res = est.summary()\n",
    "est_res.tables[1]"
   ]
  },
  {
   "cell_type": "code",
   "execution_count": 124,
   "metadata": {},
   "outputs": [
    {
     "name": "stdout",
     "output_type": "stream",
     "text": [
      "RSS: 269.79672077541716\n",
      "RSE: 1.667755825212454\n",
      "R^2: 0.9020506014720118\n"
     ]
    }
   ],
   "source": [
    "#расчет метрик\n",
    "print(\"RSS:\", np.sum(est.resid ** 2))\n",
    "print(\"RSE:\", np.sqrt((np.sum(est.resid ** 2)) / (X_train.shape[0] - 2 - 1)))\n",
    "print(\"R^2:\", est.rsquared)"
   ]
  },
  {
   "cell_type": "code",
   "execution_count": 125,
   "metadata": {},
   "outputs": [
    {
     "name": "stdout",
     "output_type": "stream",
     "text": [
      "RSS_test: 306.90663871598946\n",
      "RSE_test: 0.18060568103497016\n",
      "R^2_test: 0.8826436017134698\n"
     ]
    }
   ],
   "source": [
    "#получение предсказания на тесте\n",
    "y_pred_test = est.predict(X_test[['TV', 'radio']])\n",
    "y_test = X_test['sales']\n",
    "\n",
    "#расчет метрик\n",
    "print(\"RSS_test:\", np.sum((y_test - y_pred_test)**2))\n",
    "print(\"RSE_test:\",np.sqrt(np.sum((y_test - y_pred_test)**2)) / (X_test.shape[0] - 2 - 1))\n",
    "print(\"R^2_test:\", sklearn.metrics.r2_score(y_test, y_pred_test))"
   ]
  },
  {
   "cell_type": "code",
   "execution_count": 126,
   "metadata": {},
   "outputs": [
    {
     "data": {
      "text/html": [
       "<table class=\"simpletable\">\n",
       "<tr>\n",
       "      <td></td>         <th>coef</th>     <th>std err</th>      <th>t</th>      <th>P>|t|</th>  <th>[0.025</th>    <th>0.975]</th>  \n",
       "</tr>\n",
       "<tr>\n",
       "  <th>Intercept</th> <td>    2.8376</td> <td>    0.350</td> <td>    8.103</td> <td> 0.000</td> <td>    2.145</td> <td>    3.530</td>\n",
       "</tr>\n",
       "<tr>\n",
       "  <th>TV</th>        <td>    0.0441</td> <td>    0.002</td> <td>   27.234</td> <td> 0.000</td> <td>    0.041</td> <td>    0.047</td>\n",
       "</tr>\n",
       "<tr>\n",
       "  <th>radio</th>     <td>    0.2026</td> <td>    0.009</td> <td>   21.837</td> <td> 0.000</td> <td>    0.184</td> <td>    0.221</td>\n",
       "</tr>\n",
       "</table>"
      ],
      "text/plain": [
       "<class 'statsmodels.iolib.table.SimpleTable'>"
      ]
     },
     "execution_count": 126,
     "metadata": {},
     "output_type": "execute_result"
    }
   ],
   "source": [
    "est1 = smf.ols('sales ~ TV + radio', X_train1).fit()\n",
    "est_res1 = est1.summary()\n",
    "est_res1.tables[1]"
   ]
  },
  {
   "cell_type": "code",
   "execution_count": 127,
   "metadata": {},
   "outputs": [
    {
     "name": "stdout",
     "output_type": "stream",
     "text": [
      "RSS: 349.6011203718844\n",
      "RSE: 1.5974457722925104\n",
      "R^2: 0.9048377867980043\n"
     ]
    }
   ],
   "source": [
    "#расчет метрик\n",
    "print(\"RSS:\", np.sum(est1.resid ** 2))\n",
    "print(\"RSE:\", np.sqrt((np.sum(est1.resid ** 2)) / (X_train1.shape[0] - 2 - 1)))\n",
    "print(\"R^2:\", est1.rsquared)"
   ]
  },
  {
   "cell_type": "code",
   "execution_count": 128,
   "metadata": {},
   "outputs": [
    {
     "name": "stdout",
     "output_type": "stream",
     "text": [
      "RSS_test: 220.14282327184094\n",
      "RSE_test: 0.2603019432378154\n",
      "R^2_test: 0.8656253548947074\n"
     ]
    }
   ],
   "source": [
    "#получение предсказания на тесте\n",
    "y_pred_test1 = est1.predict(X_test1[['TV', 'radio']])\n",
    "y_test1 = X_test1['sales']\n",
    "\n",
    "#расчет метрик\n",
    "print(\"RSS_test:\", np.sum((y_test1 - y_pred_test1)**2))\n",
    "print(\"RSE_test:\",np.sqrt(np.sum((y_test1 - y_pred_test1)**2)) / (X_test1.shape[0] - 2 - 1))\n",
    "print(\"R^2_test:\", sklearn.metrics.r2_score(y_test1, y_pred_test1))"
   ]
  },
  {
   "cell_type": "code",
   "execution_count": 129,
   "metadata": {},
   "outputs": [
    {
     "data": {
      "text/html": [
       "<table class=\"simpletable\">\n",
       "<tr>\n",
       "      <td></td>         <th>coef</th>     <th>std err</th>      <th>t</th>      <th>P>|t|</th>  <th>[0.025</th>    <th>0.975]</th>  \n",
       "</tr>\n",
       "<tr>\n",
       "  <th>Intercept</th> <td>    3.0283</td> <td>    0.330</td> <td>    9.188</td> <td> 0.000</td> <td>    2.377</td> <td>    3.679</td>\n",
       "</tr>\n",
       "<tr>\n",
       "  <th>TV</th>        <td>    0.0447</td> <td>    0.002</td> <td>   28.620</td> <td> 0.000</td> <td>    0.042</td> <td>    0.048</td>\n",
       "</tr>\n",
       "<tr>\n",
       "  <th>radio</th>     <td>    0.1907</td> <td>    0.009</td> <td>   21.396</td> <td> 0.000</td> <td>    0.173</td> <td>    0.208</td>\n",
       "</tr>\n",
       "</table>"
      ],
      "text/plain": [
       "<class 'statsmodels.iolib.table.SimpleTable'>"
      ]
     },
     "execution_count": 129,
     "metadata": {},
     "output_type": "execute_result"
    }
   ],
   "source": [
    "est2 = smf.ols('sales ~ TV + radio', X_train2).fit()\n",
    "est_res2 = est2.summary()\n",
    "est_res2.tables[1]"
   ]
  },
  {
   "cell_type": "code",
   "execution_count": 130,
   "metadata": {},
   "outputs": [
    {
     "name": "stdout",
     "output_type": "stream",
     "text": [
      "RSS: 433.2465274979225\n",
      "RSE: 1.6611839218701105\n",
      "R^2: 0.8955982149747163\n"
     ]
    }
   ],
   "source": [
    "#расчет метрик\n",
    "print(\"RSS:\", np.sum(est2.resid ** 2))\n",
    "print(\"RSE:\", np.sqrt((np.sum(est2.resid ** 2)) / (X_train2.shape[0] - 2 - 1)))\n",
    "print(\"R^2:\", est2.rsquared)"
   ]
  },
  {
   "cell_type": "code",
   "execution_count": 131,
   "metadata": {},
   "outputs": [
    {
     "name": "stdout",
     "output_type": "stream",
     "text": [
      "RSS_test: 125.51792036273409\n",
      "RSE_test: 0.302796703988802\n",
      "R^2_test: 0.9005833101920356\n"
     ]
    }
   ],
   "source": [
    "#получение предсказания на тесте\n",
    "y_pred_test2 = est2.predict(X_test2[['TV', 'radio']])\n",
    "y_test2 = X_test2['sales']\n",
    "\n",
    "#расчет метрик\n",
    "print(\"RSS_test:\", np.sum((y_test2 - y_pred_test2)**2))\n",
    "print(\"RSE_test:\",np.sqrt(np.sum((y_test2 - y_pred_test2)**2)) / (X_test2.shape[0] - 2 - 1))\n",
    "print(\"R^2_test:\", sklearn.metrics.r2_score(y_test2, y_pred_test2))"
   ]
  },
  {
   "cell_type": "markdown",
   "metadata": {},
   "source": [
    "Проверяем вариант а) sales ~ rootTV + radio"
   ]
  },
  {
   "cell_type": "code",
   "execution_count": 132,
   "metadata": {},
   "outputs": [
    {
     "data": {
      "text/html": [
       "<table class=\"simpletable\">\n",
       "<tr>\n",
       "      <td></td>         <th>coef</th>     <th>std err</th>      <th>t</th>      <th>P>|t|</th>  <th>[0.025</th>    <th>0.975]</th>  \n",
       "</tr>\n",
       "<tr>\n",
       "  <th>Intercept</th> <td>   -3.3746</td> <td>    0.559</td> <td>   -6.037</td> <td> 0.000</td> <td>   -4.484</td> <td>   -2.265</td>\n",
       "</tr>\n",
       "<tr>\n",
       "  <th>root_tv</th>   <td>    1.8309</td> <td>    0.072</td> <td>   25.550</td> <td> 0.000</td> <td>    1.689</td> <td>    1.973</td>\n",
       "</tr>\n",
       "<tr>\n",
       "  <th>radio</th>     <td>    0.2049</td> <td>    0.009</td> <td>   21.667</td> <td> 0.000</td> <td>    0.186</td> <td>    0.224</td>\n",
       "</tr>\n",
       "</table>"
      ],
      "text/plain": [
       "<class 'statsmodels.iolib.table.SimpleTable'>"
      ]
     },
     "execution_count": 132,
     "metadata": {},
     "output_type": "execute_result"
    }
   ],
   "source": [
    "est = smf.ols('sales ~ root_tv + radio', X_train).fit()\n",
    "est_res = est.summary()\n",
    "est_res.tables[1]"
   ]
  },
  {
   "cell_type": "code",
   "execution_count": 133,
   "metadata": {},
   "outputs": [
    {
     "name": "stdout",
     "output_type": "stream",
     "text": [
      "RSS: 200.23499560383388\n",
      "RSE: 1.4367596546375332\n",
      "R^2: 0.9273049082016976\n"
     ]
    }
   ],
   "source": [
    "#расчет метрик\n",
    "print(\"RSS:\", np.sum(est.resid ** 2))\n",
    "print(\"RSE:\", np.sqrt((np.sum(est.resid ** 2)) / (X_train.shape[0] - 2 - 1)))\n",
    "print(\"R^2:\", est.rsquared)"
   ]
  },
  {
   "cell_type": "code",
   "execution_count": 134,
   "metadata": {},
   "outputs": [
    {
     "name": "stdout",
     "output_type": "stream",
     "text": [
      "RSS_test: 180.2527057870786\n",
      "RSE_test: 0.1384105396958353\n",
      "R^2_test: 0.9310741259261296\n"
     ]
    }
   ],
   "source": [
    "#получение предсказания на тесте\n",
    "y_pred_test = est.predict(X_test[['root_tv', 'radio']])\n",
    "y_test = X_test['sales']\n",
    "\n",
    "#расчет метрик\n",
    "print(\"RSS_test:\", np.sum((y_test - y_pred_test)**2))\n",
    "print(\"RSE_test:\",np.sqrt(np.sum((y_test - y_pred_test)**2)) / (X_test.shape[0] - 2 - 1))\n",
    "print(\"R^2_test:\", sklearn.metrics.r2_score(y_test, y_pred_test))"
   ]
  },
  {
   "cell_type": "code",
   "execution_count": 135,
   "metadata": {},
   "outputs": [
    {
     "data": {
      "text/html": [
       "<table class=\"simpletable\">\n",
       "<tr>\n",
       "      <td></td>         <th>coef</th>     <th>std err</th>      <th>t</th>      <th>P>|t|</th>  <th>[0.025</th>    <th>0.975]</th>  \n",
       "</tr>\n",
       "<tr>\n",
       "  <th>Intercept</th> <td>   -3.5883</td> <td>    0.454</td> <td>   -7.912</td> <td> 0.000</td> <td>   -4.485</td> <td>   -2.691</td>\n",
       "</tr>\n",
       "<tr>\n",
       "  <th>root_tv</th>   <td>    1.8610</td> <td>    0.057</td> <td>   32.571</td> <td> 0.000</td> <td>    1.748</td> <td>    1.974</td>\n",
       "</tr>\n",
       "<tr>\n",
       "  <th>radio</th>     <td>    0.2030</td> <td>    0.008</td> <td>   25.548</td> <td> 0.000</td> <td>    0.187</td> <td>    0.219</td>\n",
       "</tr>\n",
       "</table>"
      ],
      "text/plain": [
       "<class 'statsmodels.iolib.table.SimpleTable'>"
      ]
     },
     "execution_count": 135,
     "metadata": {},
     "output_type": "execute_result"
    }
   ],
   "source": [
    "est1 = smf.ols('sales ~ root_tv + radio', X_train1).fit()\n",
    "est_res1 = est1.summary()\n",
    "est_res1.tables[1]"
   ]
  },
  {
   "cell_type": "code",
   "execution_count": 136,
   "metadata": {},
   "outputs": [
    {
     "name": "stdout",
     "output_type": "stream",
     "text": [
      "RSS: 256.44355253955246\n",
      "RSE: 1.3681559664248395\n",
      "R^2: 0.9301954868019677\n"
     ]
    }
   ],
   "source": [
    "#расчет метрик\n",
    "print(\"RSS:\", np.sum(est1.resid ** 2))\n",
    "print(\"RSE:\", np.sqrt((np.sum(est1.resid ** 2)) / (X_train1.shape[0] - 2 - 1)))\n",
    "print(\"R^2:\", est1.rsquared)"
   ]
  },
  {
   "cell_type": "code",
   "execution_count": 137,
   "metadata": {},
   "outputs": [
    {
     "name": "stdout",
     "output_type": "stream",
     "text": [
      "RSS_test: 119.3572825998626\n",
      "RSE_test: 0.19166799758650085\n",
      "R^2_test: 0.9271446043449548\n"
     ]
    }
   ],
   "source": [
    "#получение предсказания на тесте\n",
    "y_pred_test1 = est1.predict(X_test1[['root_tv', 'radio']])\n",
    "y_test1 = X_test1['sales']\n",
    "\n",
    "#расчет метрик\n",
    "print(\"RSS_test:\", np.sum((y_test1 - y_pred_test1)**2))\n",
    "print(\"RSE_test:\",np.sqrt(np.sum((y_test1 - y_pred_test1)**2)) / (X_test1.shape[0] - 2 - 1))\n",
    "print(\"R^2_test:\", sklearn.metrics.r2_score(y_test1, y_pred_test1))"
   ]
  },
  {
   "cell_type": "code",
   "execution_count": 138,
   "metadata": {},
   "outputs": [
    {
     "data": {
      "text/html": [
       "<table class=\"simpletable\">\n",
       "<tr>\n",
       "      <td></td>         <th>coef</th>     <th>std err</th>      <th>t</th>      <th>P>|t|</th>  <th>[0.025</th>    <th>0.975]</th>  \n",
       "</tr>\n",
       "<tr>\n",
       "  <th>Intercept</th> <td>   -3.5888</td> <td>    0.419</td> <td>   -8.557</td> <td> 0.000</td> <td>   -4.417</td> <td>   -2.760</td>\n",
       "</tr>\n",
       "<tr>\n",
       "  <th>root_tv</th>   <td>    1.8821</td> <td>    0.053</td> <td>   35.384</td> <td> 0.000</td> <td>    1.777</td> <td>    1.987</td>\n",
       "</tr>\n",
       "<tr>\n",
       "  <th>radio</th>     <td>    0.1967</td> <td>    0.007</td> <td>   26.548</td> <td> 0.000</td> <td>    0.182</td> <td>    0.211</td>\n",
       "</tr>\n",
       "</table>"
      ],
      "text/plain": [
       "<class 'statsmodels.iolib.table.SimpleTable'>"
      ]
     },
     "execution_count": 138,
     "metadata": {},
     "output_type": "execute_result"
    }
   ],
   "source": [
    "est2 = smf.ols('sales ~ root_tv + radio', X_train2).fit()\n",
    "est_res2 = est2.summary()\n",
    "est_res2.tables[1]"
   ]
  },
  {
   "cell_type": "code",
   "execution_count": 139,
   "metadata": {},
   "outputs": [
    {
     "name": "stdout",
     "output_type": "stream",
     "text": [
      "RSS: 300.130315845859\n",
      "RSE: 1.382627232016091\n",
      "R^2: 0.9276759564687794\n"
     ]
    }
   ],
   "source": [
    "#расчет метрик\n",
    "print(\"RSS:\", np.sum(est2.resid ** 2))\n",
    "print(\"RSE:\", np.sqrt((np.sum(est2.resid ** 2)) / (X_train2.shape[0] - 2 - 1)))\n",
    "print(\"R^2:\", est2.rsquared)"
   ]
  },
  {
   "cell_type": "code",
   "execution_count": 140,
   "metadata": {},
   "outputs": [
    {
     "name": "stdout",
     "output_type": "stream",
     "text": [
      "RSS_test: 72.51557727371339\n",
      "RSE_test: 0.23015156386062144\n",
      "R^2_test: 0.942563909350695\n"
     ]
    }
   ],
   "source": [
    "#получение предсказания на тесте\n",
    "y_pred_test2 = est2.predict(X_test2[['root_tv', 'radio']])\n",
    "y_test2 = X_test2['sales']\n",
    "\n",
    "#расчет метрик\n",
    "print(\"RSS_test:\", np.sum((y_test2 - y_pred_test2)**2))\n",
    "print(\"RSE_test:\",np.sqrt(np.sum((y_test2 - y_pred_test2)**2)) / (X_test2.shape[0] - 2 - 1))\n",
    "print(\"R^2_test:\", sklearn.metrics.r2_score(y_test2, y_pred_test2))"
   ]
  },
  {
   "cell_type": "code",
   "execution_count": null,
   "metadata": {},
   "outputs": [],
   "source": []
  }
 ],
 "metadata": {
  "kernelspec": {
   "display_name": "Python 3",
   "language": "python",
   "name": "python3"
  },
  "language_info": {
   "codemirror_mode": {
    "name": "ipython",
    "version": 3
   },
   "file_extension": ".py",
   "mimetype": "text/x-python",
   "name": "python",
   "nbconvert_exporter": "python",
   "pygments_lexer": "ipython3",
   "version": "3.7.1"
  }
 },
 "nbformat": 4,
 "nbformat_minor": 2
}

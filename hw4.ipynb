{
 "cells": [
  {
   "cell_type": "markdown",
   "metadata": {},
   "source": [
    "Задание 1\n",
    "\n",
    "Напишите функцию date_range, которая возвращает список дней между датами start_date и end_date. Даты должны вводиться в формате YYYY-MM-DD.\n"
   ]
  },
  {
   "cell_type": "code",
   "execution_count": 1,
   "metadata": {},
   "outputs": [],
   "source": [
    "from datetime import datetime\n",
    "from datetime import timedelta"
   ]
  },
  {
   "cell_type": "code",
   "execution_count": 2,
   "metadata": {},
   "outputs": [],
   "source": [
    "def date_range(start_date, end_date):\n",
    "    start_date_dt = datetime.strptime(start_date, '%Y-%m-%d')\n",
    "    end_date_dt = datetime.strptime(end_date, '%Y-%m-%d')\n",
    "    current_dt = start_date_dt\n",
    "    while current_dt <= end_date_dt:\n",
    "        print(current_dt.strftime('%Y-%m-%d'))  \n",
    "        current_dt += timedelta(days=1)"
   ]
  },
  {
   "cell_type": "code",
   "execution_count": 3,
   "metadata": {},
   "outputs": [
    {
     "name": "stdout",
     "output_type": "stream",
     "text": [
      "2018-12-30\n",
      "2018-12-31\n",
      "2019-01-01\n",
      "2019-01-02\n",
      "2019-01-03\n",
      "2019-01-04\n",
      "2019-01-05\n"
     ]
    }
   ],
   "source": [
    "date_range('2018-12-30', '2019-01-05')"
   ]
  },
  {
   "cell_type": "markdown",
   "metadata": {},
   "source": [
    "Задание 2\n",
    "\n",
    "Дополните функцию из первого задания проверкой на корректность дат. В случае неверного формата или если start_date > end_date должен возвращаться пустой список.\n"
   ]
  },
  {
   "cell_type": "code",
   "execution_count": 4,
   "metadata": {},
   "outputs": [],
   "source": [
    "def date_range(start_date, end_date):\n",
    "    try:\n",
    "        start_date_dt = datetime.strptime(start_date, '%Y-%m-%d')\n",
    "        end_date_dt = datetime.strptime(end_date, '%Y-%m-%d')\n",
    "        current_dt = start_date_dt\n",
    "\n",
    "        if current_dt <= end_date_dt:\n",
    "            while current_dt <= end_date_dt:\n",
    "                print(current_dt.strftime('%Y-%m-%d'))  \n",
    "                current_dt += timedelta(days=1)\n",
    "        else:\n",
    "            print([])\n",
    "    except ValueError:\n",
    "        print([])"
   ]
  },
  {
   "cell_type": "code",
   "execution_count": 5,
   "metadata": {},
   "outputs": [
    {
     "name": "stdout",
     "output_type": "stream",
     "text": [
      "2018-12-28\n",
      "2018-12-29\n",
      "2018-12-30\n",
      "2018-12-31\n"
     ]
    }
   ],
   "source": [
    "date_range('2018-12-28', '2018-12-31')"
   ]
  },
  {
   "cell_type": "code",
   "execution_count": 6,
   "metadata": {},
   "outputs": [
    {
     "name": "stdout",
     "output_type": "stream",
     "text": [
      "[]\n"
     ]
    }
   ],
   "source": [
    "date_range('2018-12-28', '2018-12-25')"
   ]
  },
  {
   "cell_type": "code",
   "execution_count": 7,
   "metadata": {},
   "outputs": [
    {
     "name": "stdout",
     "output_type": "stream",
     "text": [
      "[]\n"
     ]
    }
   ],
   "source": [
    "date_range('2018-12-10Z', '2018-12-25')"
   ]
  },
  {
   "cell_type": "markdown",
   "metadata": {},
   "source": [
    "Задание 3\n",
    "\n",
    "Дан поток дат в формате YYYY-MM-DD, в которых встречаются некорректные значения: stream = [‘2018-04-02’, ‘2018-02-29’, ‘2018-19-02’] Напишите функцию, которая проверяет эти даты на корректность. Т. е. для каждой даты возвращает True (дата корректна) или False (некорректная дата).\n"
   ]
  },
  {
   "cell_type": "code",
   "execution_count": 8,
   "metadata": {},
   "outputs": [],
   "source": [
    "stream = ['2018-04-02', '2018-02-29', '2018-19-02']"
   ]
  },
  {
   "cell_type": "code",
   "execution_count": 9,
   "metadata": {},
   "outputs": [],
   "source": [
    "def check(stream):\n",
    "    \"\"\"проверяет эти даты на корректность (формат %Y-%m-%d)\"\"\"\n",
    "    for i in range(len(stream)):\n",
    "        try:\n",
    "            date_datetime = datetime.strptime(stream[i], '%Y-%m-%d')\n",
    "            print(stream[i], 'True')\n",
    "\n",
    "        except:      \n",
    "            print(stream[i], 'False')\n",
    "        i =+1"
   ]
  },
  {
   "cell_type": "code",
   "execution_count": 10,
   "metadata": {},
   "outputs": [
    {
     "name": "stdout",
     "output_type": "stream",
     "text": [
      "2018-04-02 True\n",
      "2018-02-29 False\n",
      "2018-19-02 False\n"
     ]
    }
   ],
   "source": [
    "check(stream)"
   ]
  },
  {
   "cell_type": "markdown",
   "metadata": {},
   "source": [
    "Задание 4\n",
    "\n",
    "Напишите функцию, которая возвращает список дат с 1 по вчерашний день текущего месяца. Если дан 1 день месяца, то возвращается список дней прошлого месяца.\n"
   ]
  },
  {
   "cell_type": "code",
   "execution_count": 11,
   "metadata": {},
   "outputs": [],
   "source": [
    "def dates_range():\n",
    "    #возвращает список дат с 1 по вчерашний день текущего месяца. \n",
    "    #Если сегодня 1 день месяца, то возвращается список дней прошлого месяца\n",
    "    dates = []\n",
    "    end_date_dt = datetime.now() - timedelta(days=1)\n",
    "    current_dt = end_date_dt\n",
    "    while current_dt <= end_date_dt and current_dt.month == end_date_dt.month and current_dt.year == end_date_dt.year:\n",
    "        dates.append(current_dt.strftime('%Y-%m-%d'))  \n",
    "        current_dt -= timedelta(days=1)\n",
    "    dates.sort()\n",
    "    return dates"
   ]
  },
  {
   "cell_type": "code",
   "execution_count": 12,
   "metadata": {},
   "outputs": [
    {
     "data": {
      "text/plain": [
       "['2019-03-01',\n",
       " '2019-03-02',\n",
       " '2019-03-03',\n",
       " '2019-03-04',\n",
       " '2019-03-05',\n",
       " '2019-03-06',\n",
       " '2019-03-07',\n",
       " '2019-03-08',\n",
       " '2019-03-09',\n",
       " '2019-03-10',\n",
       " '2019-03-11',\n",
       " '2019-03-12',\n",
       " '2019-03-13',\n",
       " '2019-03-14',\n",
       " '2019-03-15',\n",
       " '2019-03-16']"
      ]
     },
     "execution_count": 12,
     "metadata": {},
     "output_type": "execute_result"
    }
   ],
   "source": [
    "dates_range()"
   ]
  },
  {
   "cell_type": "code",
   "execution_count": 13,
   "metadata": {},
   "outputs": [],
   "source": [
    "def dates_range2():\n",
    "    #возвращает список дат с 1 по вчерашний день текущего месяца (от введеной даты). \n",
    "    #Если введен 1 день месяца, то возвращается список дней прошлого месяца\n",
    "    dates = []\n",
    "    a = []\n",
    "    print('введите дату в формате YYYY-MM-DD')\n",
    "    date = input()\n",
    "    end_date_dt = datetime.strptime(date, '%Y-%m-%d') - timedelta(days=1)\n",
    "    current_dt = end_date_dt\n",
    "    while current_dt <= end_date_dt and current_dt.month == end_date_dt.month and current_dt.year == end_date_dt.year:\n",
    "        a.append(current_dt.strftime('%Y-%m-%d'))  \n",
    "        current_dt -= timedelta(days=1)\n",
    "    a.sort()\n",
    "    return a"
   ]
  },
  {
   "cell_type": "code",
   "execution_count": 14,
   "metadata": {},
   "outputs": [
    {
     "name": "stdout",
     "output_type": "stream",
     "text": [
      "введите дату в формате YYYY-MM-DD\n",
      "2018-01-01\n"
     ]
    },
    {
     "data": {
      "text/plain": [
       "['2017-12-01',\n",
       " '2017-12-02',\n",
       " '2017-12-03',\n",
       " '2017-12-04',\n",
       " '2017-12-05',\n",
       " '2017-12-06',\n",
       " '2017-12-07',\n",
       " '2017-12-08',\n",
       " '2017-12-09',\n",
       " '2017-12-10',\n",
       " '2017-12-11',\n",
       " '2017-12-12',\n",
       " '2017-12-13',\n",
       " '2017-12-14',\n",
       " '2017-12-15',\n",
       " '2017-12-16',\n",
       " '2017-12-17',\n",
       " '2017-12-18',\n",
       " '2017-12-19',\n",
       " '2017-12-20',\n",
       " '2017-12-21',\n",
       " '2017-12-22',\n",
       " '2017-12-23',\n",
       " '2017-12-24',\n",
       " '2017-12-25',\n",
       " '2017-12-26',\n",
       " '2017-12-27',\n",
       " '2017-12-28',\n",
       " '2017-12-29',\n",
       " '2017-12-30',\n",
       " '2017-12-31']"
      ]
     },
     "execution_count": 14,
     "metadata": {},
     "output_type": "execute_result"
    }
   ],
   "source": [
    "dates_range2()"
   ]
  },
  {
   "cell_type": "markdown",
   "metadata": {},
   "source": [
    "Задание 5\n",
    "\n",
    "Напишите функцию, которая возвращает точную дату в формате YYYY-MM-DD по фразе:\n",
    "\n",
    "‘today’ - сегодняшнюю дату ‘last monday’ - прошлый понедельник ‘last day’ - Последний день текущего месяца\n"
   ]
  },
  {
   "cell_type": "code",
   "execution_count": 15,
   "metadata": {},
   "outputs": [],
   "source": [
    "def what_date_is():\n",
    "    print('Complete the question \"What date is\": today, last monday or last day')\n",
    "    date = input()\n",
    "    today = datetime.now()\n",
    "    if date == 'today':\n",
    "        print('Today is', today.strftime(\"%Y-%m-%d\"))\n",
    "    if date == 'last monday':\n",
    "        if datetime.now().weekday() == 0:\n",
    "            last_monday = today - timedelta(days=datetime.now().weekday()+7)\n",
    "        else:\n",
    "            last_monday = today - timedelta(days=datetime.now().weekday())\n",
    "        print('Last monday is', last_monday.strftime(\"%Y-%m-%d\"))\n",
    "    if date == 'last day':\n",
    "        current_dt = today\n",
    "        while current_dt >= today and current_dt.month == today.month and current_dt.year == today.year:\n",
    "            current_dt += timedelta(days=1)\n",
    "            last_day = current_dt-timedelta(days=1)\n",
    "        print('Last day is', last_day.strftime('%Y-%m-%d'))"
   ]
  },
  {
   "cell_type": "code",
   "execution_count": 16,
   "metadata": {},
   "outputs": [
    {
     "name": "stdout",
     "output_type": "stream",
     "text": [
      "Complete the question \"What date is\": today, last monday or last day\n",
      "today\n",
      "Today is 2019-03-17\n"
     ]
    }
   ],
   "source": [
    "what_date_is()"
   ]
  },
  {
   "cell_type": "code",
   "execution_count": 17,
   "metadata": {},
   "outputs": [
    {
     "name": "stdout",
     "output_type": "stream",
     "text": [
      "Complete the question \"What date is\": today, last monday or last day\n",
      "last monday\n",
      "Last monday is 2019-03-11\n"
     ]
    }
   ],
   "source": [
    "what_date_is()"
   ]
  },
  {
   "cell_type": "code",
   "execution_count": 18,
   "metadata": {},
   "outputs": [
    {
     "name": "stdout",
     "output_type": "stream",
     "text": [
      "Complete the question \"What date is\": today, last monday or last day\n",
      "last day\n",
      "Last day is 2019-03-31\n"
     ]
    }
   ],
   "source": [
    "what_date_is()"
   ]
  },
  {
   "cell_type": "code",
   "execution_count": null,
   "metadata": {},
   "outputs": [],
   "source": []
  }
 ],
 "metadata": {
  "kernelspec": {
   "display_name": "Python 3",
   "language": "python",
   "name": "python3"
  },
  "language_info": {
   "codemirror_mode": {
    "name": "ipython",
    "version": 3
   },
   "file_extension": ".py",
   "mimetype": "text/x-python",
   "name": "python",
   "nbconvert_exporter": "python",
   "pygments_lexer": "ipython3",
   "version": "3.7.1"
  }
 },
 "nbformat": 4,
 "nbformat_minor": 2
}
